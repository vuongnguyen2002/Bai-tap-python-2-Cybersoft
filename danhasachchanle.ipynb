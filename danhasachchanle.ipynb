{
 "cells": [
  {
   "cell_type": "code",
   "execution_count": 21,
   "id": "37ea4159",
   "metadata": {},
   "outputs": [
    {
     "name": "stdout",
     "output_type": "stream",
     "text": [
      "So chan la: 0\n",
      "So chan la: 2\n",
      "So chan la: 4\n",
      "So chan la: 6\n",
      "So chan la: 8\n",
      "So chan la: 10\n",
      "So chan la: 12\n",
      "So chan la: 14\n",
      "So chan la: 16\n",
      "So chan la: 18\n",
      "So chan la: 20\n"
     ]
    }
   ],
   "source": [
    "list =[0,2,4,6,...,20]\n",
    "list2=[0,2,4,6,8,10,12,14,16,18,20]\n",
    "for ls2 in list2:\n",
    "    if ls2%2==0:\n",
    "        print(\"So chan la:\" ,ls2)\n",
    "    else:\n",
    "        print(\"ko phai so chan :\",ls2)"
   ]
  },
  {
   "cell_type": "code",
   "execution_count": 18,
   "id": "8f3fbc41",
   "metadata": {},
   "outputs": [],
   "source": [
    "%pwd\n",
    "list2=[0,2,4,6,8,10,12,14,16,18,20]\n",
    "f = open(\"danh_sach_chanle.txt\", mode='w', encoding='utf-8')\n",
    "for ds in list2:\n",
    "    f.write(str(ds)+\"\\n\")\n",
    "f.close()\n",
    "    "
   ]
  },
  {
   "cell_type": "code",
   "execution_count": 1,
   "id": "f481a4d1",
   "metadata": {},
   "outputs": [
    {
     "name": "stdout",
     "output_type": "stream",
     "text": [
      "So le la: 1\n",
      "So le la: 3\n",
      "So le la: 5\n",
      "So le la: 7\n",
      "So le la: 9\n",
      "So le la: 11\n",
      "So le la: 13\n",
      "So le la: 15\n",
      "So le la: 17\n",
      "So le la: 19\n"
     ]
    }
   ],
   "source": [
    "list1 =[1,3,5,...,19]\n",
    "list3=[1,3,5,7,9,11,13,15,17,19]\n",
    "for ls3 in list3:\n",
    "    if ls3%2==1:\n",
    "        print(\"So le la:\",ls3)"
   ]
  },
  {
   "cell_type": "code",
   "execution_count": 2,
   "id": "3512bd04",
   "metadata": {},
   "outputs": [],
   "source": [
    "%pwd\n",
    "list3=[1,3,5,7,9,11,13,15,17,19]\n",
    "f = open(\"danh_sach_chanle2.txt\", mode='w', encoding='utf-8')\n",
    "for ds in list3:\n",
    "    f.write(str(ds)+\"\\n\")\n",
    "f.close()\n",
    "\n"
   ]
  },
  {
   "cell_type": "code",
   "execution_count": 16,
   "id": "25977568",
   "metadata": {},
   "outputs": [],
   "source": []
  },
  {
   "cell_type": "code",
   "execution_count": null,
   "id": "f534a2f0",
   "metadata": {},
   "outputs": [],
   "source": []
  },
  {
   "cell_type": "code",
   "execution_count": null,
   "id": "e6c2f8db",
   "metadata": {},
   "outputs": [],
   "source": []
  },
  {
   "cell_type": "code",
   "execution_count": 43,
   "id": "727a82a8",
   "metadata": {},
   "outputs": [],
   "source": []
  },
  {
   "cell_type": "code",
   "execution_count": null,
   "id": "26e3f8c1",
   "metadata": {},
   "outputs": [],
   "source": []
  },
  {
   "cell_type": "code",
   "execution_count": 19,
   "id": "b442dfd3",
   "metadata": {},
   "outputs": [],
   "source": []
  },
  {
   "cell_type": "code",
   "execution_count": null,
   "id": "0410b647",
   "metadata": {},
   "outputs": [],
   "source": []
  }
 ],
 "metadata": {
  "kernelspec": {
   "display_name": "Python 3 (ipykernel)",
   "language": "python",
   "name": "python3"
  },
  "language_info": {
   "codemirror_mode": {
    "name": "ipython",
    "version": 3
   },
   "file_extension": ".py",
   "mimetype": "text/x-python",
   "name": "python",
   "nbconvert_exporter": "python",
   "pygments_lexer": "ipython3",
   "version": "3.9.7"
  }
 },
 "nbformat": 4,
 "nbformat_minor": 5
}
